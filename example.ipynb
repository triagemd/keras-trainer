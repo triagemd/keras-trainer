{
 "cells": [
  {
   "cell_type": "code",
   "execution_count": 1,
   "metadata": {},
   "outputs": [],
   "source": [
    "# Install packages\n",
    "!pip install -q keras-trainer keras-model-specs stored"
   ]
  },
  {
   "cell_type": "code",
   "execution_count": 2,
   "metadata": {},
   "outputs": [
    {
     "name": "stderr",
     "output_type": "stream",
     "text": [
      "Using TensorFlow backend.\n"
     ]
    }
   ],
   "source": [
    "# Import dependencies\n",
    "import os \n",
    "import json\n",
    "import numpy as np\n",
    "%reload_ext autoreload\n",
    "%autoreload 2\n",
    "os.environ[\"CUDA_DEVICE_ORDER\"] = \"PCI_BUS_ID\"\n",
    "os.environ[\"CUDA_VISIBLE_DEVICES\"] = \"2\"\n",
    "from keras_trainer import Trainer\n",
    "from keras_model_specs import ModelSpec"
   ]
  },
  {
   "cell_type": "code",
   "execution_count": 3,
   "metadata": {},
   "outputs": [],
   "source": [
    "import stored\n",
    "# Download Cats vs Dogs Dataset\n",
    "stored.sync('https://storage.googleapis.com/sample-datasets/cats-vs-dogs/train.zip', 'data/train')\n",
    "stored.sync('https://storage.googleapis.com/sample-datasets/cats-vs-dogs/valid.zip', 'data/valid')"
   ]
  },
  {
   "cell_type": "markdown",
   "metadata": {},
   "source": [
    "## Keras Trainer\n",
    "\n",
    "An abstraction to train Keras CNN models for image classification. To use it is required to have also installed the `keras-model-specs` package. \n",
    "\n",
    "The list of models supported is the following:\n",
    "\n",
    "`vgg16`, `vgg19`, `resnet50`, `resnet152`, `mobilenet_v1`, `xception`,\n",
    "`inception_resnet_v2`, `inception_v3`, `inception_v4`, `nasnet_large`, `nasnet_mobile`, `densenet_169`,\n",
    "`densenet_121`, `densenet_201`\n",
    "\n",
    "And the defaults are specified [here](https://github.com/triagemd/keras-model-specs/blob/master/keras_model_specs/model_specs.json)."
   ]
  },
  {
   "cell_type": "markdown",
   "metadata": {},
   "source": [
    "This will get the model_spec by default of the `mobilenet_v1` arquitecture:"
   ]
  },
  {
   "cell_type": "code",
   "execution_count": 4,
   "metadata": {},
   "outputs": [],
   "source": [
    "model_spec = ModelSpec.get('mobilenet_v1')"
   ]
  },
  {
   "cell_type": "markdown",
   "metadata": {},
   "source": [
    "Here you can see the contents:"
   ]
  },
  {
   "cell_type": "code",
   "execution_count": 5,
   "metadata": {},
   "outputs": [
    {
     "name": "stdout",
     "output_type": "stream",
     "text": [
      "{\n",
      " \"name\": \"mobilenet_v1\",\n",
      " \"klass\": \"keras.applications.mobilenet.MobileNet\",\n",
      " \"target_size\": [\n",
      "  224,\n",
      "  224,\n",
      "  3\n",
      " ],\n",
      " \"preprocess_func\": \"between_plus_minus_1\",\n",
      " \"preprocess_args\": null\n",
      "}\n"
     ]
    }
   ],
   "source": [
    "print(json.dumps(model_spec.as_json(), indent=True))"
   ]
  },
  {
   "cell_type": "markdown",
   "metadata": {},
   "source": [
    "You can override the defaults, passing different parameters. Let's use `preprocess_func= mean_subtraction` as an image preprocessing function, and let's also set the mean to subtract as `preprocess_args=dataset_mean`."
   ]
  },
  {
   "cell_type": "code",
   "execution_count": 6,
   "metadata": {},
   "outputs": [],
   "source": [
    "dataset_mean = [142.69182214, 119.05833338, 106.89884415]\n",
    "model_spec = ModelSpec.get('mobilenet_v1', preprocess_func='mean_subtraction', preprocess_args=dataset_mean)"
   ]
  },
  {
   "cell_type": "markdown",
   "metadata": {},
   "source": [
    "We'll see the changes now:"
   ]
  },
  {
   "cell_type": "code",
   "execution_count": 7,
   "metadata": {},
   "outputs": [
    {
     "name": "stdout",
     "output_type": "stream",
     "text": [
      "{\n",
      " \"name\": \"mobilenet_v1\",\n",
      " \"klass\": \"keras.applications.mobilenet.MobileNet\",\n",
      " \"target_size\": [\n",
      "  224,\n",
      "  224,\n",
      "  3\n",
      " ],\n",
      " \"preprocess_func\": \"mean_subtraction\",\n",
      " \"preprocess_args\": [\n",
      "  142.69182214,\n",
      "  119.05833338,\n",
      "  106.89884415\n",
      " ]\n",
      "}\n"
     ]
    }
   ],
   "source": [
    "print(json.dumps(model_spec.as_json(), indent=True))"
   ]
  },
  {
   "cell_type": "markdown",
   "metadata": {},
   "source": [
    "### Keras Trainer definition"
   ]
  },
  {
   "cell_type": "markdown",
   "metadata": {},
   "source": [
    "These are the default options:"
   ]
  },
  {
   "cell_type": "code",
   "execution_count": 8,
   "metadata": {},
   "outputs": [
    {
     "data": {
      "text/plain": [
       "{'model_spec': {'type': str},\n",
       " 'output_logs_dir': {'type': str},\n",
       " 'output_model_dir': {'type': str},\n",
       " 'activation': {'type': str, 'default': 'softmax'},\n",
       " 'batch_size': {'type': int, 'default': 1},\n",
       " 'callback_list': {'type': list, 'default': []},\n",
       " 'checkpoint_path': {'type': str, 'default': None},\n",
       " 'class_weights': {'type': None, 'default': None},\n",
       " 'custom_model': {'type': None, 'default': None},\n",
       " 'decay': {'type': float, 'default': 0.0005},\n",
       " 'dropout_rate': {'type': float, 'default': 0.0},\n",
       " 'epochs': {'type': int, 'default': 1},\n",
       " 'freeze_layers_list': {'type': None, 'default': None},\n",
       " 'loss_function': {'type': str, 'default': 'categorical_crossentropy'},\n",
       " 'include_top': {'type': bool, 'default': False},\n",
       " 'input_shape': {'type': None, 'default': None},\n",
       " 'iterator_mode': {'type': str, 'default': None},\n",
       " 'loss_weights': {'type': None, 'default': None},\n",
       " 'max_queue_size': {'type': int, 'default': 16},\n",
       " 'metrics': {'type': list, 'default': ['accuracy']},\n",
       " 'model_kwargs': {'type': dict, 'default': {}},\n",
       " 'momentum': {'type': float, 'default': 0.9},\n",
       " 'num_classes': {'type': int, 'default': None},\n",
       " 'num_gpus': {'type': int, 'default': 0},\n",
       " 'optimizer': {'type': None, 'default': None},\n",
       " 'pooling': {'type': str, 'default': 'avg'},\n",
       " 'random_crop_size': {'type': float, 'default': None},\n",
       " 'regularization_function': {'type': None, 'default': None},\n",
       " 'regularization_layers': {'type': None, 'default': None},\n",
       " 'regularize_bias': {'type': bool, 'default': False},\n",
       " 'save_training_options': {'type': bool, 'default': True},\n",
       " 'sgd_lr': {'type': float, 'default': 0.01},\n",
       " 'top_layers': {'type': None, 'default': None},\n",
       " 'track_sensitivity': {'type': bool, 'default': False},\n",
       " 'train_data_generator': {'type': None, 'default': None},\n",
       " 'train_dataset_dataframe': {'type': str, 'default': None},\n",
       " 'train_dataset_dir': {'type': str, 'default': None},\n",
       " 'train_generator': {'type': None, 'default': None},\n",
       " 'val_data_generator': {'type': None, 'default': None},\n",
       " 'val_dataset_dataframe': {'type': str, 'default': None},\n",
       " 'val_dataset_dir': {'type': str, 'default': None},\n",
       " 'val_generator': {'type': None, 'default': None},\n",
       " 'verbose': {'type': bool, 'default': False},\n",
       " 'weights': {'type': str, 'default': 'imagenet'},\n",
       " 'workers': {'type': int, 'default': 1}}"
      ]
     },
     "execution_count": 8,
     "metadata": {},
     "output_type": "execute_result"
    }
   ],
   "source": [
    "Trainer.OPTIONS"
   ]
  },
  {
   "cell_type": "markdown",
   "metadata": {},
   "source": [
    "### Setting up the training data\n",
    "\n",
    "To train a model the first thing you need is to have the data ready. There must be a parent folder containing one folder per each class. E.g. for the cats vs dogs classification problem: `'data/train/cats'` , `'data/train/dogs'`.\n",
    "Also it is needed to have a validation set: `'data/valid/cats'` , `'data/valid/dogs'`"
   ]
  },
  {
   "cell_type": "markdown",
   "metadata": {},
   "source": [
    "You will need to specify these under `train_dataset_dir` and `val_dataset_dir`. Also you will need to specify a path for the model logs and outputs, `output_model_dir` and `output_logs_dir`:"
   ]
  },
  {
   "cell_type": "code",
   "execution_count": 9,
   "metadata": {},
   "outputs": [],
   "source": [
    "train_dataset_dir = 'data/train/'\n",
    "val_dataset_dir = 'data/valid/'\n",
    "output_model_dir = 'output/models/'\n",
    "output_logs_dir = 'output/logs/'"
   ]
  },
  {
   "cell_type": "markdown",
   "metadata": {},
   "source": [
    "By default Keras trainer will use keras generators with data augmentation as follows:\n",
    "\n",
    "```\n",
    "train_data_generator = image.ImageDataGenerator(\n",
    "            rotation_range=180,\n",
    "            width_shift_range=0,\n",
    "            height_shift_range=0,\n",
    "            preprocessing_function=self.model_spec.preprocess_input,\n",
    "            shear_range=0,\n",
    "            zoom_range=0.1,\n",
    "            horizontal_flip=True,\n",
    "            vertical_flip=True,\n",
    "            fill_mode='nearest'\n",
    "        )\n",
    "```"
   ]
  },
  {
   "cell_type": "markdown",
   "metadata": {},
   "source": [
    "But you can set custom ones under and pass them as parameters with `train_data_generator`, `val_data_generator` if you want to do data augmentation. Or `train_generator`, `val_generator` for a complete iterator. "
   ]
  },
  {
   "cell_type": "markdown",
   "metadata": {},
   "source": [
    "### Setting up the model, fine tuning a pre-trained model\n",
    "\n",
    "By default weights from imagenet will be loaded (`weights='imagenet'`) and top dense layers will not be included (`include_top=False`) allowing to define new top-layers to fine tune the network. You can choose `weights='None'` to train from scratch."
   ]
  },
  {
   "cell_type": "markdown",
   "metadata": {},
   "source": [
    "You can specify layers to put on top if you specify a list of Keras layers inside `top_layers`:"
   ]
  },
  {
   "cell_type": "code",
   "execution_count": 10,
   "metadata": {},
   "outputs": [],
   "source": [
    "from keras.layers import Dense, Dropout, Activation\n",
    "\n",
    "# Create a dropout layer with dropout rate 0.5\n",
    "dropout = Dropout(0.5)\n",
    "# Create a dense layer with 10 outputs\n",
    "dense = Dense(10, name='dense')\n",
    "# Create a softmax activation layer\n",
    "softmax = Activation('softmax', name='softmax_activation')\n",
    "\n",
    "top_layers = [dropout, dense, softmax]"
   ]
  },
  {
   "cell_type": "markdown",
   "metadata": {},
   "source": [
    "If you don't, by default we'll add a `Dense` linear layer with output `num_classes` followed by a `Softmax` layer activation."
   ]
  },
  {
   "cell_type": "markdown",
   "metadata": {},
   "source": [
    "### Optimizers, Callbacks, Metrics and Loss Functions"
   ]
  },
  {
   "cell_type": "markdown",
   "metadata": {},
   "source": [
    "By default SGD optimizer will be used with the default parameters as shown in the OPTIONS.  \n",
    "\n",
    "```\n",
    "self.optimizer = self.optimizer or optimizers.SGD(\n",
    "    lr=self.sgd_lr,\n",
    "    decay=self.decay,\n",
    "    momentum=self.momentum,\n",
    "    nesterov=True\n",
    ")\n",
    "```"
   ]
  },
  {
   "cell_type": "markdown",
   "metadata": {},
   "source": [
    "But we allow the use of any optimizer, you can define it and pass it with the `optimizer` variable. Moreover, you can define variable learning rates in the form of a Keras Callback.\n",
    "You can define as much callbacks as you want! They go under `callback_list`\n",
    "Let's see an example:"
   ]
  },
  {
   "cell_type": "code",
   "execution_count": 11,
   "metadata": {},
   "outputs": [],
   "source": [
    "from keras.callbacks import LearningRateScheduler\n",
    "from keras import optimizers\n",
    "\n",
    "# Decrease learning rate by 10 in epochs 10 and 20 \n",
    "def scheduler(epoch):\n",
    "    if epoch == 10 or epoch == 20:\n",
    "        lr = K.get_value(model.optimizer.lr)\n",
    "        K.set_value(model.optimizer.lr, lr / 10)\n",
    "        print(\"lr changed to {}\".format(lr / 10))\n",
    "    return K.get_value(model.optimizer.lr)\n",
    "\n",
    "schedule_lr = LearningRateScheduler(scheduler)\n",
    "callback_list = [schedule_lr]\n",
    "\n",
    "optim = optimizers.SGD(lr=0.001, decay=0.0005, momentum=0.9, nesterov=True)"
   ]
  },
  {
   "cell_type": "markdown",
   "metadata": {},
   "source": [
    "You can also define a dictionary of class weights:"
   ]
  },
  {
   "cell_type": "code",
   "execution_count": 12,
   "metadata": {},
   "outputs": [],
   "source": [
    "class_weights = {0: 13.883058178601447, 1: 1.4222778260019158}"
   ]
  },
  {
   "cell_type": "markdown",
   "metadata": {},
   "source": [
    "Any custom metrics or loss functions can be also defined in `metrics` or `loss_function`, by default we will use `accuracy` and `categorical cross-entropy` respectively."
   ]
  },
  {
   "cell_type": "markdown",
   "metadata": {},
   "source": [
    "### Creating the Trainer"
   ]
  },
  {
   "cell_type": "markdown",
   "metadata": {},
   "source": [
    "Once it is all ready, we create the trainer object:"
   ]
  },
  {
   "cell_type": "code",
   "execution_count": 13,
   "metadata": {},
   "outputs": [
    {
     "name": "stdout",
     "output_type": "stream",
     "text": [
      "Training data\n",
      "Found 23000 images belonging to 2 classes.\n",
      "Validation data\n",
      "Found 2000 images belonging to 2 classes.\n"
     ]
    },
    {
     "name": "stderr",
     "output_type": "stream",
     "text": [
      "/home/albert/keras-trainer/.venv/lib/python3.6/site-packages/keras_applications/mobilenet.py:207: UserWarning: `input_shape` is undefined or non-square, or `rows` is not in [128, 160, 192, 224]. Weights for input shape (224, 224) will be loaded as the default.\n",
      "  warnings.warn('`input_shape` is undefined or non-square, '\n"
     ]
    }
   ],
   "source": [
    "trainer = Trainer(model_spec=model_spec,\n",
    "                  train_dataset_dir=train_dataset_dir,\n",
    "                  val_dataset_dir=val_dataset_dir,\n",
    "                  output_model_dir=output_model_dir,\n",
    "                  output_logs_dir=output_logs_dir,\n",
    "                  batch_size=32,\n",
    "                  epochs=10,\n",
    "                  workers=16,\n",
    "                  max_queue_size=128,\n",
    "                  num_gpus=0,\n",
    "                  optimizer=optim,\n",
    "                  class_weights=class_weights,\n",
    "                  verbose=False,\n",
    "                  input_shape=(None, None, 3)\n",
    "                )"
   ]
  },
  {
   "cell_type": "markdown",
   "metadata": {},
   "source": [
    "The trainer object contains the model, and you can have access to it:"
   ]
  },
  {
   "cell_type": "code",
   "execution_count": 14,
   "metadata": {},
   "outputs": [
    {
     "name": "stdout",
     "output_type": "stream",
     "text": [
      "_________________________________________________________________\n",
      "Layer (type)                 Output Shape              Param #   \n",
      "=================================================================\n",
      "input_1 (InputLayer)         (None, None, None, 3)     0         \n",
      "_________________________________________________________________\n",
      "conv1_pad (ZeroPadding2D)    (None, None, None, 3)     0         \n",
      "_________________________________________________________________\n",
      "conv1 (Conv2D)               (None, None, None, 32)    864       \n",
      "_________________________________________________________________\n",
      "conv1_bn (BatchNormalization (None, None, None, 32)    128       \n",
      "_________________________________________________________________\n",
      "conv1_relu (ReLU)            (None, None, None, 32)    0         \n",
      "_________________________________________________________________\n",
      "conv_dw_1 (DepthwiseConv2D)  (None, None, None, 32)    288       \n",
      "_________________________________________________________________\n",
      "conv_dw_1_bn (BatchNormaliza (None, None, None, 32)    128       \n",
      "_________________________________________________________________\n",
      "conv_dw_1_relu (ReLU)        (None, None, None, 32)    0         \n",
      "_________________________________________________________________\n",
      "conv_pw_1 (Conv2D)           (None, None, None, 64)    2048      \n",
      "_________________________________________________________________\n",
      "conv_pw_1_bn (BatchNormaliza (None, None, None, 64)    256       \n",
      "_________________________________________________________________\n",
      "conv_pw_1_relu (ReLU)        (None, None, None, 64)    0         \n",
      "_________________________________________________________________\n",
      "conv_pad_2 (ZeroPadding2D)   (None, None, None, 64)    0         \n",
      "_________________________________________________________________\n",
      "conv_dw_2 (DepthwiseConv2D)  (None, None, None, 64)    576       \n",
      "_________________________________________________________________\n",
      "conv_dw_2_bn (BatchNormaliza (None, None, None, 64)    256       \n",
      "_________________________________________________________________\n",
      "conv_dw_2_relu (ReLU)        (None, None, None, 64)    0         \n",
      "_________________________________________________________________\n",
      "conv_pw_2 (Conv2D)           (None, None, None, 128)   8192      \n",
      "_________________________________________________________________\n",
      "conv_pw_2_bn (BatchNormaliza (None, None, None, 128)   512       \n",
      "_________________________________________________________________\n",
      "conv_pw_2_relu (ReLU)        (None, None, None, 128)   0         \n",
      "_________________________________________________________________\n",
      "conv_dw_3 (DepthwiseConv2D)  (None, None, None, 128)   1152      \n",
      "_________________________________________________________________\n",
      "conv_dw_3_bn (BatchNormaliza (None, None, None, 128)   512       \n",
      "_________________________________________________________________\n",
      "conv_dw_3_relu (ReLU)        (None, None, None, 128)   0         \n",
      "_________________________________________________________________\n",
      "conv_pw_3 (Conv2D)           (None, None, None, 128)   16384     \n",
      "_________________________________________________________________\n",
      "conv_pw_3_bn (BatchNormaliza (None, None, None, 128)   512       \n",
      "_________________________________________________________________\n",
      "conv_pw_3_relu (ReLU)        (None, None, None, 128)   0         \n",
      "_________________________________________________________________\n",
      "conv_pad_4 (ZeroPadding2D)   (None, None, None, 128)   0         \n",
      "_________________________________________________________________\n",
      "conv_dw_4 (DepthwiseConv2D)  (None, None, None, 128)   1152      \n",
      "_________________________________________________________________\n",
      "conv_dw_4_bn (BatchNormaliza (None, None, None, 128)   512       \n",
      "_________________________________________________________________\n",
      "conv_dw_4_relu (ReLU)        (None, None, None, 128)   0         \n",
      "_________________________________________________________________\n",
      "conv_pw_4 (Conv2D)           (None, None, None, 256)   32768     \n",
      "_________________________________________________________________\n",
      "conv_pw_4_bn (BatchNormaliza (None, None, None, 256)   1024      \n",
      "_________________________________________________________________\n",
      "conv_pw_4_relu (ReLU)        (None, None, None, 256)   0         \n",
      "_________________________________________________________________\n",
      "conv_dw_5 (DepthwiseConv2D)  (None, None, None, 256)   2304      \n",
      "_________________________________________________________________\n",
      "conv_dw_5_bn (BatchNormaliza (None, None, None, 256)   1024      \n",
      "_________________________________________________________________\n",
      "conv_dw_5_relu (ReLU)        (None, None, None, 256)   0         \n",
      "_________________________________________________________________\n",
      "conv_pw_5 (Conv2D)           (None, None, None, 256)   65536     \n",
      "_________________________________________________________________\n",
      "conv_pw_5_bn (BatchNormaliza (None, None, None, 256)   1024      \n",
      "_________________________________________________________________\n",
      "conv_pw_5_relu (ReLU)        (None, None, None, 256)   0         \n",
      "_________________________________________________________________\n",
      "conv_pad_6 (ZeroPadding2D)   (None, None, None, 256)   0         \n",
      "_________________________________________________________________\n",
      "conv_dw_6 (DepthwiseConv2D)  (None, None, None, 256)   2304      \n",
      "_________________________________________________________________\n",
      "conv_dw_6_bn (BatchNormaliza (None, None, None, 256)   1024      \n",
      "_________________________________________________________________\n",
      "conv_dw_6_relu (ReLU)        (None, None, None, 256)   0         \n",
      "_________________________________________________________________\n",
      "conv_pw_6 (Conv2D)           (None, None, None, 512)   131072    \n",
      "_________________________________________________________________\n",
      "conv_pw_6_bn (BatchNormaliza (None, None, None, 512)   2048      \n",
      "_________________________________________________________________\n",
      "conv_pw_6_relu (ReLU)        (None, None, None, 512)   0         \n",
      "_________________________________________________________________\n",
      "conv_dw_7 (DepthwiseConv2D)  (None, None, None, 512)   4608      \n",
      "_________________________________________________________________\n",
      "conv_dw_7_bn (BatchNormaliza (None, None, None, 512)   2048      \n",
      "_________________________________________________________________\n",
      "conv_dw_7_relu (ReLU)        (None, None, None, 512)   0         \n",
      "_________________________________________________________________\n",
      "conv_pw_7 (Conv2D)           (None, None, None, 512)   262144    \n",
      "_________________________________________________________________\n",
      "conv_pw_7_bn (BatchNormaliza (None, None, None, 512)   2048      \n",
      "_________________________________________________________________\n",
      "conv_pw_7_relu (ReLU)        (None, None, None, 512)   0         \n",
      "_________________________________________________________________\n",
      "conv_dw_8 (DepthwiseConv2D)  (None, None, None, 512)   4608      \n",
      "_________________________________________________________________\n",
      "conv_dw_8_bn (BatchNormaliza (None, None, None, 512)   2048      \n",
      "_________________________________________________________________\n",
      "conv_dw_8_relu (ReLU)        (None, None, None, 512)   0         \n",
      "_________________________________________________________________\n",
      "conv_pw_8 (Conv2D)           (None, None, None, 512)   262144    \n",
      "_________________________________________________________________\n",
      "conv_pw_8_bn (BatchNormaliza (None, None, None, 512)   2048      \n",
      "_________________________________________________________________\n",
      "conv_pw_8_relu (ReLU)        (None, None, None, 512)   0         \n",
      "_________________________________________________________________\n",
      "conv_dw_9 (DepthwiseConv2D)  (None, None, None, 512)   4608      \n",
      "_________________________________________________________________\n",
      "conv_dw_9_bn (BatchNormaliza (None, None, None, 512)   2048      \n",
      "_________________________________________________________________\n",
      "conv_dw_9_relu (ReLU)        (None, None, None, 512)   0         \n",
      "_________________________________________________________________\n",
      "conv_pw_9 (Conv2D)           (None, None, None, 512)   262144    \n",
      "_________________________________________________________________\n",
      "conv_pw_9_bn (BatchNormaliza (None, None, None, 512)   2048      \n",
      "_________________________________________________________________\n",
      "conv_pw_9_relu (ReLU)        (None, None, None, 512)   0         \n",
      "_________________________________________________________________\n",
      "conv_dw_10 (DepthwiseConv2D) (None, None, None, 512)   4608      \n",
      "_________________________________________________________________\n",
      "conv_dw_10_bn (BatchNormaliz (None, None, None, 512)   2048      \n",
      "_________________________________________________________________\n",
      "conv_dw_10_relu (ReLU)       (None, None, None, 512)   0         \n",
      "_________________________________________________________________\n",
      "conv_pw_10 (Conv2D)          (None, None, None, 512)   262144    \n",
      "_________________________________________________________________\n",
      "conv_pw_10_bn (BatchNormaliz (None, None, None, 512)   2048      \n",
      "_________________________________________________________________\n",
      "conv_pw_10_relu (ReLU)       (None, None, None, 512)   0         \n",
      "_________________________________________________________________\n",
      "conv_dw_11 (DepthwiseConv2D) (None, None, None, 512)   4608      \n",
      "_________________________________________________________________\n",
      "conv_dw_11_bn (BatchNormaliz (None, None, None, 512)   2048      \n",
      "_________________________________________________________________\n",
      "conv_dw_11_relu (ReLU)       (None, None, None, 512)   0         \n",
      "_________________________________________________________________\n",
      "conv_pw_11 (Conv2D)          (None, None, None, 512)   262144    \n",
      "_________________________________________________________________\n",
      "conv_pw_11_bn (BatchNormaliz (None, None, None, 512)   2048      \n",
      "_________________________________________________________________\n",
      "conv_pw_11_relu (ReLU)       (None, None, None, 512)   0         \n",
      "_________________________________________________________________\n",
      "conv_pad_12 (ZeroPadding2D)  (None, None, None, 512)   0         \n",
      "_________________________________________________________________\n",
      "conv_dw_12 (DepthwiseConv2D) (None, None, None, 512)   4608      \n",
      "_________________________________________________________________\n",
      "conv_dw_12_bn (BatchNormaliz (None, None, None, 512)   2048      \n",
      "_________________________________________________________________\n",
      "conv_dw_12_relu (ReLU)       (None, None, None, 512)   0         \n",
      "_________________________________________________________________\n",
      "conv_pw_12 (Conv2D)          (None, None, None, 1024)  524288    \n",
      "_________________________________________________________________\n",
      "conv_pw_12_bn (BatchNormaliz (None, None, None, 1024)  4096      \n",
      "_________________________________________________________________\n",
      "conv_pw_12_relu (ReLU)       (None, None, None, 1024)  0         \n",
      "_________________________________________________________________\n",
      "conv_dw_13 (DepthwiseConv2D) (None, None, None, 1024)  9216      \n",
      "_________________________________________________________________\n",
      "conv_dw_13_bn (BatchNormaliz (None, None, None, 1024)  4096      \n",
      "_________________________________________________________________\n",
      "conv_dw_13_relu (ReLU)       (None, None, None, 1024)  0         \n",
      "_________________________________________________________________\n",
      "conv_pw_13 (Conv2D)          (None, None, None, 1024)  1048576   \n",
      "_________________________________________________________________\n",
      "conv_pw_13_bn (BatchNormaliz (None, None, None, 1024)  4096      \n",
      "_________________________________________________________________\n",
      "conv_pw_13_relu (ReLU)       (None, None, None, 1024)  0         \n",
      "_________________________________________________________________\n",
      "global_average_pooling2d_1 ( (None, 1024)              0         \n",
      "_________________________________________________________________\n",
      "dense (Dense)                (None, 2)                 2050      \n",
      "_________________________________________________________________\n",
      "act_softmax (Activation)     (None, 2)                 0         \n",
      "=================================================================\n",
      "Total params: 3,230,914\n",
      "Trainable params: 3,209,026\n",
      "Non-trainable params: 21,888\n",
      "_________________________________________________________________\n"
     ]
    }
   ],
   "source": [
    "trainer.model.summary()"
   ]
  },
  {
   "cell_type": "markdown",
   "metadata": {},
   "source": [
    "### Freeze Layers"
   ]
  },
  {
   "cell_type": "markdown",
   "metadata": {},
   "source": [
    "You can also freeze the layers you don't want to train, by making a list with their names or their indices:"
   ]
  },
  {
   "cell_type": "code",
   "execution_count": 15,
   "metadata": {},
   "outputs": [
    {
     "name": "stdout",
     "output_type": "stream",
     "text": [
      "[0 1 2 3 4 5 6 7 8 9]\n"
     ]
    }
   ],
   "source": [
    "# Let's freeze the first 10 layers\n",
    "layers_to_freeze = np.arange(0,10,1)\n",
    "print(layers_to_freeze)"
   ]
  },
  {
   "cell_type": "code",
   "execution_count": 16,
   "metadata": {},
   "outputs": [
    {
     "name": "stdout",
     "output_type": "stream",
     "text": [
      "Training data\n",
      "Found 23000 images belonging to 2 classes.\n",
      "Validation data\n",
      "Found 2000 images belonging to 2 classes.\n"
     ]
    }
   ],
   "source": [
    "trainer = Trainer(model_spec=model_spec,\n",
    "                  train_dataset_dir=train_dataset_dir,\n",
    "                  val_dataset_dir=val_dataset_dir,\n",
    "                  output_model_dir=output_model_dir,\n",
    "                  output_logs_dir=output_logs_dir,\n",
    "                  batch_size=32,\n",
    "                  epochs=2,\n",
    "                  workers=16,\n",
    "                  max_queue_size=128,\n",
    "                  num_gpus=1,\n",
    "                  optimizer=optim,\n",
    "                  class_weights=class_weights,\n",
    "                  verbose=False,\n",
    "                  input_shape=(None, None, 3),\n",
    "                  freeze_layers_list=layers_to_freeze\n",
    "                )"
   ]
  },
  {
   "cell_type": "code",
   "execution_count": 17,
   "metadata": {},
   "outputs": [
    {
     "name": "stdout",
     "output_type": "stream",
     "text": [
      "_________________________________________________________________\n",
      "Layer (type)                 Output Shape              Param #   \n",
      "=================================================================\n",
      "input_2 (InputLayer)         (None, None, None, 3)     0         \n",
      "_________________________________________________________________\n",
      "conv1_pad (ZeroPadding2D)    (None, None, None, 3)     0         \n",
      "_________________________________________________________________\n",
      "conv1 (Conv2D)               (None, None, None, 32)    864       \n",
      "_________________________________________________________________\n",
      "conv1_bn (BatchNormalization (None, None, None, 32)    128       \n",
      "_________________________________________________________________\n",
      "conv1_relu (ReLU)            (None, None, None, 32)    0         \n",
      "_________________________________________________________________\n",
      "conv_dw_1 (DepthwiseConv2D)  (None, None, None, 32)    288       \n",
      "_________________________________________________________________\n",
      "conv_dw_1_bn (BatchNormaliza (None, None, None, 32)    128       \n",
      "_________________________________________________________________\n",
      "conv_dw_1_relu (ReLU)        (None, None, None, 32)    0         \n",
      "_________________________________________________________________\n",
      "conv_pw_1 (Conv2D)           (None, None, None, 64)    2048      \n",
      "_________________________________________________________________\n",
      "conv_pw_1_bn (BatchNormaliza (None, None, None, 64)    256       \n",
      "_________________________________________________________________\n",
      "conv_pw_1_relu (ReLU)        (None, None, None, 64)    0         \n",
      "_________________________________________________________________\n",
      "conv_pad_2 (ZeroPadding2D)   (None, None, None, 64)    0         \n",
      "_________________________________________________________________\n",
      "conv_dw_2 (DepthwiseConv2D)  (None, None, None, 64)    576       \n",
      "_________________________________________________________________\n",
      "conv_dw_2_bn (BatchNormaliza (None, None, None, 64)    256       \n",
      "_________________________________________________________________\n",
      "conv_dw_2_relu (ReLU)        (None, None, None, 64)    0         \n",
      "_________________________________________________________________\n",
      "conv_pw_2 (Conv2D)           (None, None, None, 128)   8192      \n",
      "_________________________________________________________________\n",
      "conv_pw_2_bn (BatchNormaliza (None, None, None, 128)   512       \n",
      "_________________________________________________________________\n",
      "conv_pw_2_relu (ReLU)        (None, None, None, 128)   0         \n",
      "_________________________________________________________________\n",
      "conv_dw_3 (DepthwiseConv2D)  (None, None, None, 128)   1152      \n",
      "_________________________________________________________________\n",
      "conv_dw_3_bn (BatchNormaliza (None, None, None, 128)   512       \n",
      "_________________________________________________________________\n",
      "conv_dw_3_relu (ReLU)        (None, None, None, 128)   0         \n",
      "_________________________________________________________________\n",
      "conv_pw_3 (Conv2D)           (None, None, None, 128)   16384     \n",
      "_________________________________________________________________\n",
      "conv_pw_3_bn (BatchNormaliza (None, None, None, 128)   512       \n",
      "_________________________________________________________________\n",
      "conv_pw_3_relu (ReLU)        (None, None, None, 128)   0         \n",
      "_________________________________________________________________\n",
      "conv_pad_4 (ZeroPadding2D)   (None, None, None, 128)   0         \n",
      "_________________________________________________________________\n",
      "conv_dw_4 (DepthwiseConv2D)  (None, None, None, 128)   1152      \n",
      "_________________________________________________________________\n",
      "conv_dw_4_bn (BatchNormaliza (None, None, None, 128)   512       \n",
      "_________________________________________________________________\n",
      "conv_dw_4_relu (ReLU)        (None, None, None, 128)   0         \n",
      "_________________________________________________________________\n",
      "conv_pw_4 (Conv2D)           (None, None, None, 256)   32768     \n",
      "_________________________________________________________________\n",
      "conv_pw_4_bn (BatchNormaliza (None, None, None, 256)   1024      \n",
      "_________________________________________________________________\n",
      "conv_pw_4_relu (ReLU)        (None, None, None, 256)   0         \n",
      "_________________________________________________________________\n",
      "conv_dw_5 (DepthwiseConv2D)  (None, None, None, 256)   2304      \n",
      "_________________________________________________________________\n",
      "conv_dw_5_bn (BatchNormaliza (None, None, None, 256)   1024      \n",
      "_________________________________________________________________\n",
      "conv_dw_5_relu (ReLU)        (None, None, None, 256)   0         \n",
      "_________________________________________________________________\n",
      "conv_pw_5 (Conv2D)           (None, None, None, 256)   65536     \n",
      "_________________________________________________________________\n",
      "conv_pw_5_bn (BatchNormaliza (None, None, None, 256)   1024      \n",
      "_________________________________________________________________\n",
      "conv_pw_5_relu (ReLU)        (None, None, None, 256)   0         \n",
      "_________________________________________________________________\n",
      "conv_pad_6 (ZeroPadding2D)   (None, None, None, 256)   0         \n",
      "_________________________________________________________________\n",
      "conv_dw_6 (DepthwiseConv2D)  (None, None, None, 256)   2304      \n",
      "_________________________________________________________________\n",
      "conv_dw_6_bn (BatchNormaliza (None, None, None, 256)   1024      \n",
      "_________________________________________________________________\n",
      "conv_dw_6_relu (ReLU)        (None, None, None, 256)   0         \n",
      "_________________________________________________________________\n",
      "conv_pw_6 (Conv2D)           (None, None, None, 512)   131072    \n",
      "_________________________________________________________________\n",
      "conv_pw_6_bn (BatchNormaliza (None, None, None, 512)   2048      \n",
      "_________________________________________________________________\n",
      "conv_pw_6_relu (ReLU)        (None, None, None, 512)   0         \n",
      "_________________________________________________________________\n",
      "conv_dw_7 (DepthwiseConv2D)  (None, None, None, 512)   4608      \n",
      "_________________________________________________________________\n",
      "conv_dw_7_bn (BatchNormaliza (None, None, None, 512)   2048      \n",
      "_________________________________________________________________\n",
      "conv_dw_7_relu (ReLU)        (None, None, None, 512)   0         \n",
      "_________________________________________________________________\n",
      "conv_pw_7 (Conv2D)           (None, None, None, 512)   262144    \n",
      "_________________________________________________________________\n",
      "conv_pw_7_bn (BatchNormaliza (None, None, None, 512)   2048      \n",
      "_________________________________________________________________\n",
      "conv_pw_7_relu (ReLU)        (None, None, None, 512)   0         \n",
      "_________________________________________________________________\n",
      "conv_dw_8 (DepthwiseConv2D)  (None, None, None, 512)   4608      \n",
      "_________________________________________________________________\n",
      "conv_dw_8_bn (BatchNormaliza (None, None, None, 512)   2048      \n",
      "_________________________________________________________________\n",
      "conv_dw_8_relu (ReLU)        (None, None, None, 512)   0         \n",
      "_________________________________________________________________\n",
      "conv_pw_8 (Conv2D)           (None, None, None, 512)   262144    \n",
      "_________________________________________________________________\n",
      "conv_pw_8_bn (BatchNormaliza (None, None, None, 512)   2048      \n",
      "_________________________________________________________________\n",
      "conv_pw_8_relu (ReLU)        (None, None, None, 512)   0         \n",
      "_________________________________________________________________\n",
      "conv_dw_9 (DepthwiseConv2D)  (None, None, None, 512)   4608      \n",
      "_________________________________________________________________\n",
      "conv_dw_9_bn (BatchNormaliza (None, None, None, 512)   2048      \n",
      "_________________________________________________________________\n",
      "conv_dw_9_relu (ReLU)        (None, None, None, 512)   0         \n",
      "_________________________________________________________________\n",
      "conv_pw_9 (Conv2D)           (None, None, None, 512)   262144    \n",
      "_________________________________________________________________\n",
      "conv_pw_9_bn (BatchNormaliza (None, None, None, 512)   2048      \n",
      "_________________________________________________________________\n",
      "conv_pw_9_relu (ReLU)        (None, None, None, 512)   0         \n",
      "_________________________________________________________________\n",
      "conv_dw_10 (DepthwiseConv2D) (None, None, None, 512)   4608      \n",
      "_________________________________________________________________\n",
      "conv_dw_10_bn (BatchNormaliz (None, None, None, 512)   2048      \n",
      "_________________________________________________________________\n",
      "conv_dw_10_relu (ReLU)       (None, None, None, 512)   0         \n",
      "_________________________________________________________________\n",
      "conv_pw_10 (Conv2D)          (None, None, None, 512)   262144    \n",
      "_________________________________________________________________\n",
      "conv_pw_10_bn (BatchNormaliz (None, None, None, 512)   2048      \n",
      "_________________________________________________________________\n",
      "conv_pw_10_relu (ReLU)       (None, None, None, 512)   0         \n",
      "_________________________________________________________________\n",
      "conv_dw_11 (DepthwiseConv2D) (None, None, None, 512)   4608      \n",
      "_________________________________________________________________\n",
      "conv_dw_11_bn (BatchNormaliz (None, None, None, 512)   2048      \n",
      "_________________________________________________________________\n",
      "conv_dw_11_relu (ReLU)       (None, None, None, 512)   0         \n",
      "_________________________________________________________________\n",
      "conv_pw_11 (Conv2D)          (None, None, None, 512)   262144    \n",
      "_________________________________________________________________\n",
      "conv_pw_11_bn (BatchNormaliz (None, None, None, 512)   2048      \n",
      "_________________________________________________________________\n",
      "conv_pw_11_relu (ReLU)       (None, None, None, 512)   0         \n",
      "_________________________________________________________________\n",
      "conv_pad_12 (ZeroPadding2D)  (None, None, None, 512)   0         \n",
      "_________________________________________________________________\n",
      "conv_dw_12 (DepthwiseConv2D) (None, None, None, 512)   4608      \n",
      "_________________________________________________________________\n",
      "conv_dw_12_bn (BatchNormaliz (None, None, None, 512)   2048      \n",
      "_________________________________________________________________\n",
      "conv_dw_12_relu (ReLU)       (None, None, None, 512)   0         \n",
      "_________________________________________________________________\n",
      "conv_pw_12 (Conv2D)          (None, None, None, 1024)  524288    \n",
      "_________________________________________________________________\n",
      "conv_pw_12_bn (BatchNormaliz (None, None, None, 1024)  4096      \n",
      "_________________________________________________________________\n",
      "conv_pw_12_relu (ReLU)       (None, None, None, 1024)  0         \n",
      "_________________________________________________________________\n",
      "conv_dw_13 (DepthwiseConv2D) (None, None, None, 1024)  9216      \n",
      "_________________________________________________________________\n",
      "conv_dw_13_bn (BatchNormaliz (None, None, None, 1024)  4096      \n",
      "_________________________________________________________________\n",
      "conv_dw_13_relu (ReLU)       (None, None, None, 1024)  0         \n",
      "_________________________________________________________________\n",
      "conv_pw_13 (Conv2D)          (None, None, None, 1024)  1048576   \n",
      "_________________________________________________________________\n",
      "conv_pw_13_bn (BatchNormaliz (None, None, None, 1024)  4096      \n",
      "_________________________________________________________________\n",
      "conv_pw_13_relu (ReLU)       (None, None, None, 1024)  0         \n",
      "_________________________________________________________________\n",
      "global_average_pooling2d_2 ( (None, 1024)              0         \n",
      "_________________________________________________________________\n",
      "dense (Dense)                (None, 2)                 2050      \n",
      "_________________________________________________________________\n",
      "act_softmax (Activation)     (None, 2)                 0         \n",
      "=================================================================\n",
      "Total params: 3,230,914\n",
      "Trainable params: 3,205,570\n",
      "Non-trainable params: 25,344\n",
      "_________________________________________________________________\n"
     ]
    }
   ],
   "source": [
    "trainer.model.summary()"
   ]
  },
  {
   "cell_type": "markdown",
   "metadata": {},
   "source": [
    "### Model Training"
   ]
  },
  {
   "cell_type": "markdown",
   "metadata": {},
   "source": [
    "Now, let's train the model"
   ]
  },
  {
   "cell_type": "code",
   "execution_count": 18,
   "metadata": {},
   "outputs": [
    {
     "name": "stdout",
     "output_type": "stream",
     "text": [
      "Epoch 1/2\n",
      "718/718 [==============================] - 57s 80ms/step - loss: 0.8580 - acc: 0.8762 - val_loss: 0.3752 - val_acc: 0.8740\n",
      "\n",
      "Epoch 00001: val_acc improved from -inf to 0.87399, saving model to output/models/model_max_acc.hdf5\n",
      "\n",
      "Epoch 00001: val_loss improved from inf to 0.37516, saving model to output/models/model_min_loss.hdf5\n",
      "Epoch 2/2\n",
      "718/718 [==============================] - 51s 71ms/step - loss: 0.4881 - acc: 0.9212 - val_loss: 0.1630 - val_acc: 0.9345\n",
      "\n",
      "Epoch 00002: val_acc improved from 0.87399 to 0.93445, saving model to output/models/model_max_acc.hdf5\n",
      "\n",
      "Epoch 00002: val_loss improved from 0.37516 to 0.16299, saving model to output/models/model_min_loss.hdf5\n"
     ]
    }
   ],
   "source": [
    "trainer.run()"
   ]
  },
  {
   "cell_type": "markdown",
   "metadata": {},
   "source": [
    "After the model is trained we can access to its history:"
   ]
  },
  {
   "cell_type": "code",
   "execution_count": 19,
   "metadata": {},
   "outputs": [],
   "source": [
    "history = trainer.history       "
   ]
  },
  {
   "cell_type": "markdown",
   "metadata": {},
   "source": [
    "And inside the history we can find the training stats:"
   ]
  },
  {
   "cell_type": "code",
   "execution_count": 20,
   "metadata": {},
   "outputs": [
    {
     "name": "stdout",
     "output_type": "stream",
     "text": [
      "Epoch 0\n",
      "Training Accuracy was 0.876\n",
      "Training Loss was 0.858\n",
      "Validation Accuracy was 0.874\n",
      "Validation Loss was 0.375\n",
      "\n",
      "Epoch 1\n",
      "Training Accuracy was 0.921\n",
      "Training Loss was 0.488\n",
      "Validation Accuracy was 0.934\n",
      "Validation Loss was 0.163\n",
      "\n"
     ]
    }
   ],
   "source": [
    "for i in range(0,len(history.history['val_acc'])):\n",
    "    print('Epoch %d' %i)\n",
    "    print('Training Accuracy was %.3f' %history.history['acc'][i])\n",
    "    print('Training Loss was %.3f' %history.history['loss'][i])\n",
    "    print('Validation Accuracy was %.3f' %history.history['val_acc'][i])\n",
    "    print('Validation Loss was %.3f' %history.history['val_loss'][i])\n",
    "    print()\n",
    "    "
   ]
  },
  {
   "cell_type": "markdown",
   "metadata": {},
   "source": [
    "### Training with multiple losses"
   ]
  },
  {
   "cell_type": "code",
   "execution_count": 21,
   "metadata": {},
   "outputs": [],
   "source": [
    "import keras\n",
    "from keras.applications import mobilenet\n",
    "from keras_trainer.losses import entropy_penalty_loss"
   ]
  },
  {
   "cell_type": "code",
   "execution_count": 22,
   "metadata": {},
   "outputs": [],
   "source": [
    "model = mobilenet.MobileNet(alpha=0.25, weights='imagenet', include_top=False, pooling='avg')\n",
    "top_layers = [keras.layers.Dense(2, name='dense'),\n",
    "                  keras.layers.Activation('softmax', name='act_softmax')]\n",
    "\n",
    "# Layer Assembling\n",
    "for i, layer in enumerate(top_layers):\n",
    "    if i == 0:\n",
    "        top_layers[i] = layer(model.output)\n",
    "    else:\n",
    "        top_layers[i] = layer(top_layers[i - 1])\n",
    "        \n",
    "model = keras.models.Model(model.input, [top_layers[-1], top_layers[-1]])"
   ]
  },
  {
   "cell_type": "code",
   "execution_count": 23,
   "metadata": {},
   "outputs": [
    {
     "name": "stdout",
     "output_type": "stream",
     "text": [
      "Training data\n",
      "Found 23000 images belonging to 2 classes.\n",
      "Validation data\n",
      "Found 2000 images belonging to 2 classes.\n"
     ]
    }
   ],
   "source": [
    "trainer = Trainer(custom_model=model,\n",
    "                  model_spec=ModelSpec.get('custom', preprocess_func='between_plus_minus_1', target_size=[224, 224, 3]),\n",
    "                  train_dataset_dir=train_dataset_dir,\n",
    "                  val_dataset_dir=val_dataset_dir,\n",
    "                  output_model_dir=output_model_dir,\n",
    "                  output_logs_dir=output_logs_dir,\n",
    "                  batch_size=128,\n",
    "                  epochs=2,\n",
    "                  workers=16,\n",
    "                  num_classes=2,\n",
    "                  max_queue_size=128,\n",
    "                  num_gpus=1,\n",
    "                  optimizer=optim,\n",
    "                  loss_function=['categorical_crossentropy', entropy_penalty_loss],\n",
    "                  loss_weights=[1.0, 0.25],\n",
    "                  verbose=False,\n",
    "                  input_shape=(None, None, 3),\n",
    "                )"
   ]
  },
  {
   "cell_type": "code",
   "execution_count": 24,
   "metadata": {},
   "outputs": [
    {
     "name": "stdout",
     "output_type": "stream",
     "text": [
      "Epoch 1/2\n",
      "179/179 [==============================] - 56s 313ms/step - loss: 0.3902 - act_softmax_loss: -0.4200 - act_softmax_acc: 0.7750 - act_softmax_acc_1: 0.7750 - val_loss: 0.1962 - val_act_softmax_loss: -0.3289 - val_act_softmax_acc: 0.8844 - val_act_softmax_acc_1: 0.8844\n",
      "\n",
      "Epoch 00001: val_act_softmax_acc improved from -inf to 0.88438, saving model to output/models/model_max_acc.hdf5\n",
      "\n",
      "Epoch 00001: val_loss improved from inf to 0.19624, saving model to output/models/model_min_loss.hdf5\n",
      "Epoch 2/2\n",
      "179/179 [==============================] - 45s 253ms/step - loss: 0.2323 - act_softmax_loss: -0.3623 - act_softmax_acc: 0.8602 - act_softmax_acc_1: 0.8602 - val_loss: 0.1724 - val_act_softmax_loss: -0.2929 - val_act_softmax_acc: 0.8926 - val_act_softmax_acc_1: 0.8926\n",
      "\n",
      "Epoch 00002: val_act_softmax_acc improved from 0.88438 to 0.89263, saving model to output/models/model_max_acc.hdf5\n",
      "\n",
      "Epoch 00002: val_loss improved from 0.19624 to 0.17236, saving model to output/models/model_min_loss.hdf5\n"
     ]
    }
   ],
   "source": [
    "trainer.run()"
   ]
  },
  {
   "cell_type": "markdown",
   "metadata": {},
   "source": [
    "### Training with probabilistic labels using Dataframes"
   ]
  },
  {
   "cell_type": "code",
   "execution_count": 25,
   "metadata": {},
   "outputs": [],
   "source": [
    "train_catdog_dataset_path = os.path.abspath(os.path.join('tests', 'files', 'catdog', 'train'))\n",
    "\n",
    "train_catdog_dataframe_path = os.path.abspath(os.path.join('tests', 'files', 'catdog', 'train_data.json'))\n",
    "\n",
    "val_catdog_dataset_path = os.path.abspath(os.path.join('tests', 'files', 'catdog', 'val'))\n",
    "\n",
    "val_catdog_dataframe_path = os.path.abspath(os.path.join('tests', 'files', 'catdog', 'val_data.json'))"
   ]
  },
  {
   "cell_type": "code",
   "execution_count": 26,
   "metadata": {},
   "outputs": [
    {
     "name": "stdout",
     "output_type": "stream",
     "text": [
      "Training data\n",
      "Found 6 validated image filenames belonging to 2 classes.\n",
      "Validation data\n",
      "Found 2 validated image filenames belonging to 2 classes.\n"
     ]
    },
    {
     "name": "stderr",
     "output_type": "stream",
     "text": [
      "/home/albert/keras-trainer/.venv/lib/python3.6/site-packages/keras_applications/mobilenet.py:207: UserWarning: `input_shape` is undefined or non-square, or `rows` is not in [128, 160, 192, 224]. Weights for input shape (224, 224) will be loaded as the default.\n",
      "  warnings.warn('`input_shape` is undefined or non-square, '\n"
     ]
    }
   ],
   "source": [
    "trainer = Trainer(model_spec=model_spec,\n",
    "                  train_dataset_dir=train_catdog_dataset_path,\n",
    "                  train_dataset_dataframe=train_catdog_dataframe_path,\n",
    "                  val_dataset_dir=val_catdog_dataset_path,\n",
    "                  val_dataset_dataframe=val_catdog_dataframe_path,\n",
    "                  output_model_dir=output_model_dir,\n",
    "                  output_logs_dir=output_logs_dir,\n",
    "                  batch_size=1,\n",
    "                  epochs=3,\n",
    "                  workers=16,\n",
    "                  num_classes=2,\n",
    "                  max_queue_size=128,\n",
    "                  num_gpus=1,\n",
    "                  optimizer=optim,\n",
    "                  verbose=False,\n",
    "                  input_shape=(None, None, 3),\n",
    "                )"
   ]
  },
  {
   "cell_type": "code",
   "execution_count": 27,
   "metadata": {},
   "outputs": [
    {
     "data": {
      "text/html": [
       "<div>\n",
       "<style scoped>\n",
       "    .dataframe tbody tr th:only-of-type {\n",
       "        vertical-align: middle;\n",
       "    }\n",
       "\n",
       "    .dataframe tbody tr th {\n",
       "        vertical-align: top;\n",
       "    }\n",
       "\n",
       "    .dataframe thead th {\n",
       "        text-align: right;\n",
       "    }\n",
       "</style>\n",
       "<table border=\"1\" class=\"dataframe\">\n",
       "  <thead>\n",
       "    <tr style=\"text-align: right;\">\n",
       "      <th></th>\n",
       "      <th>class_name</th>\n",
       "      <th>class_probabilities</th>\n",
       "      <th>filename</th>\n",
       "    </tr>\n",
       "  </thead>\n",
       "  <tbody>\n",
       "    <tr>\n",
       "      <th>0</th>\n",
       "      <td>cat</td>\n",
       "      <td>[0.9, 0.1]</td>\n",
       "      <td>cat/cat-1.jpg</td>\n",
       "    </tr>\n",
       "    <tr>\n",
       "      <th>1</th>\n",
       "      <td>cat</td>\n",
       "      <td>[1.0, 0.0]</td>\n",
       "      <td>cat/cat-2.jpg</td>\n",
       "    </tr>\n",
       "    <tr>\n",
       "      <th>2</th>\n",
       "      <td>cat</td>\n",
       "      <td>[0.7000000000000001, 0.30000000000000004]</td>\n",
       "      <td>cat/cat-3.jpg</td>\n",
       "    </tr>\n",
       "    <tr>\n",
       "      <th>3</th>\n",
       "      <td>dog</td>\n",
       "      <td>[0.0, 1.0]</td>\n",
       "      <td>dog/dog-1.jpg</td>\n",
       "    </tr>\n",
       "    <tr>\n",
       "      <th>4</th>\n",
       "      <td>dog</td>\n",
       "      <td>[0.2, 0.8]</td>\n",
       "      <td>dog/dog-2.jpg</td>\n",
       "    </tr>\n",
       "    <tr>\n",
       "      <th>5</th>\n",
       "      <td>dog</td>\n",
       "      <td>[0.1, 0.9]</td>\n",
       "      <td>dog/dog-3.jpg</td>\n",
       "    </tr>\n",
       "  </tbody>\n",
       "</table>\n",
       "</div>"
      ],
      "text/plain": [
       "  class_name                        class_probabilities       filename\n",
       "0        cat                                 [0.9, 0.1]  cat/cat-1.jpg\n",
       "1        cat                                 [1.0, 0.0]  cat/cat-2.jpg\n",
       "2        cat  [0.7000000000000001, 0.30000000000000004]  cat/cat-3.jpg\n",
       "3        dog                                 [0.0, 1.0]  dog/dog-1.jpg\n",
       "4        dog                                 [0.2, 0.8]  dog/dog-2.jpg\n",
       "5        dog                                 [0.1, 0.9]  dog/dog-3.jpg"
      ]
     },
     "execution_count": 27,
     "metadata": {},
     "output_type": "execute_result"
    }
   ],
   "source": [
    "trainer.train_dataset_dataframe"
   ]
  },
  {
   "cell_type": "code",
   "execution_count": 28,
   "metadata": {},
   "outputs": [
    {
     "name": "stdout",
     "output_type": "stream",
     "text": [
      "Epoch 1/3\n",
      "6/6 [==============================] - 3s 471ms/step - loss: 1.0266 - acc: 0.3333 - val_loss: 2.0801 - val_acc: 0.5000\n",
      "\n",
      "Epoch 00001: val_acc improved from -inf to 0.50000, saving model to output/models/model_max_acc.hdf5\n",
      "\n",
      "Epoch 00001: val_loss improved from inf to 2.08009, saving model to output/models/model_min_loss.hdf5\n",
      "Epoch 2/3\n",
      "6/6 [==============================] - 0s 30ms/step - loss: 0.9251 - acc: 0.5000 - val_loss: 1.6879 - val_acc: 0.5000\n",
      "\n",
      "Epoch 00002: val_acc did not improve from 0.50000\n",
      "\n",
      "Epoch 00002: val_loss improved from 2.08009 to 1.68788, saving model to output/models/model_min_loss.hdf5\n",
      "Epoch 3/3\n",
      "6/6 [==============================] - 0s 29ms/step - loss: 0.6888 - acc: 0.5000 - val_loss: 1.2694 - val_acc: 0.5000\n",
      "\n",
      "Epoch 00003: val_acc did not improve from 0.50000\n",
      "\n",
      "Epoch 00003: val_loss improved from 1.68788 to 1.26939, saving model to output/models/model_min_loss.hdf5\n"
     ]
    }
   ],
   "source": [
    "trainer.run()"
   ]
  }
 ],
 "metadata": {
  "kernelspec": {
   "display_name": "keras_trainer_ok",
   "language": "python",
   "name": "keras_trainer_ok"
  },
  "language_info": {
   "codemirror_mode": {
    "name": "ipython",
    "version": 3
   },
   "file_extension": ".py",
   "mimetype": "text/x-python",
   "name": "python",
   "nbconvert_exporter": "python",
   "pygments_lexer": "ipython3",
   "version": "3.6.7"
  }
 },
 "nbformat": 4,
 "nbformat_minor": 2
}
